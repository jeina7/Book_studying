{
 "cells": [
  {
   "cell_type": "code",
   "execution_count": 1,
   "metadata": {},
   "outputs": [],
   "source": [
    "from common.np import *"
   ]
  },
  {
   "cell_type": "markdown",
   "metadata": {},
   "source": [
    "# Chapter 5. RNN"
   ]
  },
  {
   "cell_type": "markdown",
   "metadata": {},
   "source": [
    "## \\# 5.5.4 `RnnlmTrainer` 구현"
   ]
  },
  {
   "cell_type": "markdown",
   "metadata": {},
   "source": [
    "- 지금까지 구현한 모든 class들을 python 파일로 옮기고, Trainer 객체로 사용"
   ]
  },
  {
   "cell_type": "code",
   "execution_count": 2,
   "metadata": {},
   "outputs": [],
   "source": [
    "import time\n",
    "import numpy\n",
    "from common.trainer import remove_duplicate\n",
    "import matplotlib.pyplot as plt\n",
    "from common.util import clip_grads"
   ]
  },
  {
   "cell_type": "code",
   "execution_count": 3,
   "metadata": {},
   "outputs": [],
   "source": [
    "class RnnlmTrainer:\n",
    "    def __init__(self, model, optimizer):\n",
    "        self.model = model\n",
    "        self.optimizer = optimizer\n",
    "        self.time_idx = None\n",
    "        self.ppl_list = None\n",
    "        self.log_step = None\n",
    "    \n",
    "    \n",
    "    def get_batch(self, xs, ts, batch_size, time_size):\n",
    "        batch_x = np.empty((batch_size, time_size), dtype='i')\n",
    "        batch_t = np.empty((batch_size, time_size), dtype='i')\n",
    "        \n",
    "        data_size = len(xs)\n",
    "        jump = data_size // batch_size\n",
    "        offsets = [i * jump for i in range(batch_size)]\n",
    "        \n",
    "        for t in range(time_size):\n",
    "            for i, offset in enumerate(offsets):\n",
    "                batch_x[i, t] = xs[(offset + self.time_idx) % data_size]\n",
    "                batch_t[i, t] = ts[(offset + self.time_idx) % data_size]\n",
    "            self.time_idx += 1\n",
    "            \n",
    "        return batch_x, batch_t\n",
    "    \n",
    "    \n",
    "    def fit(self, xs, ts, max_epoch=10, batch_size=20, time_size=35, max_grad=None, \\\n",
    "            loss_save_step=20, log_step=20):\n",
    "        data_size = len(xs)\n",
    "        max_iters = data_size // (batch_size * time_size)\n",
    "        self.time_idx = 0\n",
    "        self.ppl_list = []\n",
    "        self.loss_save_step = loss_save_step\n",
    "        model, optimizer = self.model, self.optimizer\n",
    "        total_loss, loss_count = 0, 0\n",
    "        \n",
    "        start_time = time.time()\n",
    "        for epoch in range(max_epoch):\n",
    "            for iters in range(max_iters):\n",
    "                batch_x, batch_t = self.get_batch(xs, ts, batch_size, time_size)\n",
    "                \n",
    "                # loss\n",
    "                loss = model.forward(batch_x, batch_t)\n",
    "\n",
    "                # back propagation\n",
    "                model.backward()\n",
    "                # 공유되어서 중복된 가중치는 하나만 남겨두기\n",
    "                params, grads = remove_duplicate(model.params, model.grads)\n",
    "\n",
    "                # max_grad값 있으면 그 값에 맞게 조정\n",
    "                if max_grad is not None:\n",
    "                    clip_grads(grads, max_grad)\n",
    "\n",
    "                # update gradient\n",
    "                optimizer.update(params, grads)\n",
    "\n",
    "                total_loss += loss\n",
    "                loss_count += 1\n",
    "\n",
    "                # save loss\n",
    "                if (iters+1) % self.loss_save_step == 0:\n",
    "                    avg_loss = total_loss / loss_count\n",
    "                    ppl = np.exp(avg_loss)\n",
    "                    self.ppl_list.append(float(ppl))\n",
    "                    total_loss, loss_count = 0, 0\n",
    "\n",
    "                # log losses\n",
    "                if (iters+1) % log_step == 0:\n",
    "                    elapsed_time = time.time() - start_time\n",
    "                    print(\"time %ds | epoch %d | step %d / %d | ppl %.2f\" % (elapsed_time, epoch+1, \\\n",
    "                                                                             iters+1, max_iters, ppl))\n",
    "        \n",
    "        \n",
    "    def plot(self, ylim=None):\n",
    "        x = numpy.arange(len(self.ppl_list))\n",
    "        if ylim is not None:\n",
    "            plt.ylim(*ylim)\n",
    "        plt.plot(x, self.ppl_list, label='train')\n",
    "        plt.xlabel('iter (x' + str(self.loss_save_step) + ')')\n",
    "        plt.ylabel('perplexity')\n",
    "        plt.show()\n",
    "                    "
   ]
  },
  {
   "cell_type": "markdown",
   "metadata": {},
   "source": [
    "---\n",
    "### `Trainer` 객체 사용해서 학습"
   ]
  },
  {
   "cell_type": "code",
   "execution_count": 4,
   "metadata": {},
   "outputs": [],
   "source": [
    "from common.simple_models import SimpleRnnlm\n",
    "from common.optimizer import SGD\n",
    "from common.dataset import PTB"
   ]
  },
  {
   "cell_type": "code",
   "execution_count": 5,
   "metadata": {},
   "outputs": [],
   "source": [
    "batch_size = 10\n",
    "wordvec_size = 100\n",
    "hidden_size = 100\n",
    "time_size = 5 # Truncated BPTT 블록 안의 RNN 개수\n",
    "lr = 0.1\n",
    "max_epoch = 100\n",
    "log_step = 10"
   ]
  },
  {
   "cell_type": "code",
   "execution_count": 6,
   "metadata": {},
   "outputs": [],
   "source": [
    "ptb = PTB()\n",
    "corpus, word_to_id, id_to_word = ptb.load_data('train')\n",
    "corpus_size = 1000\n",
    "corpus = corpus[:corpus_size]\n",
    "vocab_size = int(max(corpus) + 1)"
   ]
  },
  {
   "cell_type": "code",
   "execution_count": 7,
   "metadata": {},
   "outputs": [],
   "source": [
    "xs = corpus[:-1]\n",
    "ts = corpus[1:]"
   ]
  },
  {
   "cell_type": "code",
   "execution_count": 8,
   "metadata": {},
   "outputs": [],
   "source": [
    "model = SimpleRnnlm(vocab_size, wordvec_size, hidden_size)\n",
    "optimizer = SGD(lr)\n",
    "trainer = RnnlmTrainer(model, optimizer)"
   ]
  },
  {
   "cell_type": "code",
   "execution_count": 9,
   "metadata": {
    "scrolled": false
   },
   "outputs": [
    {
     "name": "stdout",
     "output_type": "stream",
     "text": [
      "time 0s | epoch 1 | step 19 / 19 | ppl 401.78\n",
      "time 0s | epoch 2 | step 19 / 19 | ppl 285.65\n",
      "time 0s | epoch 3 | step 19 / 19 | ppl 227.36\n",
      "time 0s | epoch 4 | step 19 / 19 | ppl 216.56\n",
      "time 0s | epoch 5 | step 19 / 19 | ppl 211.00\n",
      "time 0s | epoch 6 | step 19 / 19 | ppl 204.40\n",
      "time 0s | epoch 7 | step 19 / 19 | ppl 199.39\n",
      "time 0s | epoch 8 | step 19 / 19 | ppl 194.25\n",
      "time 0s | epoch 9 | step 19 / 19 | ppl 192.96\n",
      "time 0s | epoch 10 | step 19 / 19 | ppl 193.63\n",
      "time 0s | epoch 11 | step 19 / 19 | ppl 192.26\n",
      "time 0s | epoch 12 | step 19 / 19 | ppl 195.12\n",
      "time 0s | epoch 13 | step 19 / 19 | ppl 188.33\n",
      "time 0s | epoch 14 | step 19 / 19 | ppl 186.42\n",
      "time 0s | epoch 15 | step 19 / 19 | ppl 190.48\n",
      "time 0s | epoch 16 | step 19 / 19 | ppl 185.87\n",
      "time 0s | epoch 17 | step 19 / 19 | ppl 188.09\n",
      "time 0s | epoch 18 | step 19 / 19 | ppl 184.50\n",
      "time 0s | epoch 19 | step 19 / 19 | ppl 182.37\n",
      "time 0s | epoch 20 | step 19 / 19 | ppl 182.40\n",
      "time 0s | epoch 21 | step 19 / 19 | ppl 178.26\n",
      "time 0s | epoch 22 | step 19 / 19 | ppl 181.68\n",
      "time 0s | epoch 23 | step 19 / 19 | ppl 179.88\n",
      "time 0s | epoch 24 | step 19 / 19 | ppl 176.73\n",
      "time 0s | epoch 25 | step 19 / 19 | ppl 178.41\n",
      "time 0s | epoch 26 | step 19 / 19 | ppl 180.01\n",
      "time 0s | epoch 27 | step 19 / 19 | ppl 175.08\n",
      "time 0s | epoch 28 | step 19 / 19 | ppl 171.62\n",
      "time 0s | epoch 29 | step 19 / 19 | ppl 170.22\n",
      "time 0s | epoch 30 | step 19 / 19 | ppl 164.43\n",
      "time 0s | epoch 31 | step 19 / 19 | ppl 163.79\n",
      "time 1s | epoch 32 | step 19 / 19 | ppl 162.79\n",
      "time 1s | epoch 33 | step 19 / 19 | ppl 160.26\n",
      "time 1s | epoch 34 | step 19 / 19 | ppl 155.60\n",
      "time 1s | epoch 35 | step 19 / 19 | ppl 151.91\n",
      "time 1s | epoch 36 | step 19 / 19 | ppl 150.68\n",
      "time 1s | epoch 37 | step 19 / 19 | ppl 148.02\n",
      "time 1s | epoch 38 | step 19 / 19 | ppl 141.07\n",
      "time 1s | epoch 39 | step 19 / 19 | ppl 134.92\n",
      "time 1s | epoch 40 | step 19 / 19 | ppl 133.25\n",
      "time 1s | epoch 41 | step 19 / 19 | ppl 126.85\n",
      "time 1s | epoch 42 | step 19 / 19 | ppl 124.35\n",
      "time 1s | epoch 43 | step 19 / 19 | ppl 122.16\n",
      "time 1s | epoch 44 | step 19 / 19 | ppl 116.10\n",
      "time 1s | epoch 45 | step 19 / 19 | ppl 112.89\n",
      "time 1s | epoch 46 | step 19 / 19 | ppl 110.85\n",
      "time 1s | epoch 47 | step 19 / 19 | ppl 101.71\n",
      "time 1s | epoch 48 | step 19 / 19 | ppl 100.08\n",
      "time 1s | epoch 49 | step 19 / 19 | ppl 95.18\n",
      "time 1s | epoch 50 | step 19 / 19 | ppl 92.09\n",
      "time 1s | epoch 51 | step 19 / 19 | ppl 88.63\n",
      "time 1s | epoch 52 | step 19 / 19 | ppl 85.95\n",
      "time 1s | epoch 53 | step 19 / 19 | ppl 80.73\n",
      "time 1s | epoch 54 | step 19 / 19 | ppl 75.39\n",
      "time 1s | epoch 55 | step 19 / 19 | ppl 73.68\n",
      "time 1s | epoch 56 | step 19 / 19 | ppl 69.38\n",
      "time 1s | epoch 57 | step 19 / 19 | ppl 67.05\n",
      "time 1s | epoch 58 | step 19 / 19 | ppl 63.50\n",
      "time 1s | epoch 59 | step 19 / 19 | ppl 58.08\n",
      "time 1s | epoch 60 | step 19 / 19 | ppl 57.39\n",
      "time 1s | epoch 61 | step 19 / 19 | ppl 53.74\n",
      "time 1s | epoch 62 | step 19 / 19 | ppl 50.30\n",
      "time 1s | epoch 63 | step 19 / 19 | ppl 48.24\n",
      "time 2s | epoch 64 | step 19 / 19 | ppl 46.72\n",
      "time 2s | epoch 65 | step 19 / 19 | ppl 44.22\n",
      "time 2s | epoch 66 | step 19 / 19 | ppl 41.33\n",
      "time 2s | epoch 67 | step 19 / 19 | ppl 38.87\n",
      "time 2s | epoch 68 | step 19 / 19 | ppl 37.14\n",
      "time 2s | epoch 69 | step 19 / 19 | ppl 34.16\n",
      "time 2s | epoch 70 | step 19 / 19 | ppl 32.22\n",
      "time 2s | epoch 71 | step 19 / 19 | ppl 31.40\n",
      "time 2s | epoch 72 | step 19 / 19 | ppl 29.01\n",
      "time 2s | epoch 73 | step 19 / 19 | ppl 27.74\n",
      "time 2s | epoch 74 | step 19 / 19 | ppl 25.51\n",
      "time 2s | epoch 75 | step 19 / 19 | ppl 24.17\n",
      "time 2s | epoch 76 | step 19 / 19 | ppl 23.87\n",
      "time 2s | epoch 77 | step 19 / 19 | ppl 21.61\n",
      "time 2s | epoch 78 | step 19 / 19 | ppl 19.87\n",
      "time 2s | epoch 79 | step 19 / 19 | ppl 19.50\n",
      "time 2s | epoch 80 | step 19 / 19 | ppl 18.45\n",
      "time 2s | epoch 81 | step 19 / 19 | ppl 17.81\n",
      "time 2s | epoch 82 | step 19 / 19 | ppl 16.77\n",
      "time 2s | epoch 83 | step 19 / 19 | ppl 15.18\n",
      "time 2s | epoch 84 | step 19 / 19 | ppl 14.91\n",
      "time 2s | epoch 85 | step 19 / 19 | ppl 14.36\n",
      "time 2s | epoch 86 | step 19 / 19 | ppl 13.59\n",
      "time 2s | epoch 87 | step 19 / 19 | ppl 12.36\n",
      "time 2s | epoch 88 | step 19 / 19 | ppl 11.72\n",
      "time 2s | epoch 89 | step 19 / 19 | ppl 11.29\n",
      "time 2s | epoch 90 | step 19 / 19 | ppl 10.49\n",
      "time 2s | epoch 91 | step 19 / 19 | ppl 9.99\n",
      "time 2s | epoch 92 | step 19 / 19 | ppl 9.54\n",
      "time 3s | epoch 93 | step 19 / 19 | ppl 8.76\n",
      "time 3s | epoch 94 | step 19 / 19 | ppl 8.44\n",
      "time 3s | epoch 95 | step 19 / 19 | ppl 8.31\n",
      "time 3s | epoch 96 | step 19 / 19 | ppl 7.81\n",
      "time 3s | epoch 97 | step 19 / 19 | ppl 7.20\n",
      "time 3s | epoch 98 | step 19 / 19 | ppl 7.04\n",
      "time 3s | epoch 99 | step 19 / 19 | ppl 6.55\n",
      "time 3s | epoch 100 | step 19 / 19 | ppl 6.56\n"
     ]
    }
   ],
   "source": [
    "trainer.fit(xs, ts, max_epoch, batch_size, time_size, loss_save_step=10, log_step=19)"
   ]
  },
  {
   "cell_type": "code",
   "execution_count": 10,
   "metadata": {},
   "outputs": [
    {
     "data": {
      "image/png": "[encoded data removed]",
      "text/plain": [
       "<Figure size 432x288 with 1 Axes>"
      ]
     },
     "metadata": {
      "needs_background": "light"
     },
     "output_type": "display_data"
    }
   ],
   "source": [
    "trainer.plot()"
   ]
  }
 ],
 "metadata": {
  "kernelspec": {
   "display_name": "Python 3",
   "language": "python",
   "name": "python3"
  },
  "language_info": {
   "codemirror_mode": {
    "name": "ipython",
    "version": 3
   },
   "file_extension": ".py",
   "mimetype": "text/x-python",
   "name": "python",
   "nbconvert_exporter": "python",
   "pygments_lexer": "ipython3",
   "version": "3.6.9"
  }
 },
 "nbformat": 4,
 "nbformat_minor": 2
}
