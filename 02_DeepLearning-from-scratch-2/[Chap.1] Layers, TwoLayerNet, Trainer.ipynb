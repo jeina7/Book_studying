{
 "cells": [
  {
   "cell_type": "code",
   "execution_count": 1,
   "metadata": {},
   "outputs": [],
   "source": [
    "import sys\n",
    "sys.path.append('..')\n",
    "import numpy as np\n",
    "import matplotlib.pyplot as plt\n",
    "%config InlineBackend.figure_format = 'retina'\n",
    "%matplotlib inline\n",
    "\n",
    "# 라이브러리를 사용하지 않고 직접 구현한 함수 사용\n",
    "from common.dataset import Spiral\n",
    "from common.optimizer import SGD\n",
    "from common.layer import Sigmoid, Affine, MatMul, SoftmaxWithLoss\n",
    "from common.net import TwoLayerNet\n",
    "from common.function import softmax, cross_entropy_error\n",
    "from common.trainer import Trainer"
   ]
  },
  {
   "cell_type": "code",
   "execution_count": 2,
   "metadata": {},
   "outputs": [
    {
     "name": "stdout",
     "output_type": "stream",
     "text": [
      "dss (set by PYENV_VERSION environment variable)\r\n"
     ]
    }
   ],
   "source": [
    "!pyenv version"
   ]
  },
  {
   "cell_type": "markdown",
   "metadata": {},
   "source": [
    "## Dataset `Spiral`"
   ]
  },
  {
   "cell_type": "code",
   "execution_count": 3,
   "metadata": {},
   "outputs": [
    {
     "name": "stdout",
     "output_type": "stream",
     "text": [
      "(300, 2) (300, 3)\n"
     ]
    }
   ],
   "source": [
    "dataset = Spiral()\n",
    "x, t = dataset.load_data()\n",
    "print(x.shape, t.shape)"
   ]
  },
  {
   "cell_type": "markdown",
   "metadata": {},
   "source": [
    "- 300개의 2 featrues를 가진 데이터 생성\n",
    "- 300개의 데이터는 3개의 class로 나누어진다."
   ]
  },
  {
   "cell_type": "markdown",
   "metadata": {},
   "source": [
    "## Layer `Affine`\n",
    "- 완전연결계층 : $z = Wx + b$"
   ]
  },
  {
   "cell_type": "code",
   "execution_count": 4,
   "metadata": {},
   "outputs": [],
   "source": [
    "W = np.random.randn(2, 4)\n",
    "b = np.random.randn(1, 4)\n",
    "\n",
    "affine_layer = Affine(W, b)"
   ]
  },
  {
   "cell_type": "markdown",
   "metadata": {},
   "source": [
    "#### `forward()`"
   ]
  },
  {
   "cell_type": "code",
   "execution_count": 5,
   "metadata": {},
   "outputs": [
    {
     "name": "stdout",
     "output_type": "stream",
     "text": [
      "(300, 4)\n"
     ]
    },
    {
     "data": {
      "text/plain": [
       "array([[-0.02837987, -0.53012899,  0.93811912,  1.44211415],\n",
       "       [-0.02638738, -0.52379702,  0.93402608,  1.44288594],\n",
       "       [-0.02612095, -0.50990207,  0.92578972,  1.43963234],\n",
       "       ...,\n",
       "       [ 0.45772701, -1.81642436,  1.60784604,  2.35873717],\n",
       "       [ 0.4151736 , -1.37238156,  1.35390762,  2.19322996],\n",
       "       [ 0.38942033, -1.14967738,  1.22734883,  2.10490689]])"
      ]
     },
     "execution_count": 5,
     "metadata": {},
     "output_type": "execute_result"
    }
   ],
   "source": [
    "affine_out = affine_layer.forward(x)\n",
    "print(affine_out.shape)\n",
    "affine_out"
   ]
  },
  {
   "cell_type": "markdown",
   "metadata": {},
   "source": [
    "#### `backward()`"
   ]
  },
  {
   "cell_type": "code",
   "execution_count": 6,
   "metadata": {},
   "outputs": [
    {
     "data": {
      "text/plain": [
       "(300, 2)"
      ]
     },
     "execution_count": 6,
     "metadata": {},
     "output_type": "execute_result"
    }
   ],
   "source": [
    "dout = np.random.randn(300, 4)\n",
    "\n",
    "affine_layer.backward(dout).shape"
   ]
  },
  {
   "cell_type": "markdown",
   "metadata": {},
   "source": [
    "## Layer `Sigmoid`\n",
    "- sigmoid 계층 : $a = sigmoid(z)$"
   ]
  },
  {
   "cell_type": "markdown",
   "metadata": {},
   "source": [
    "#### `forward()`"
   ]
  },
  {
   "cell_type": "code",
   "execution_count": 7,
   "metadata": {},
   "outputs": [
    {
     "name": "stdout",
     "output_type": "stream",
     "text": [
      "(300, 4)\n"
     ]
    },
    {
     "data": {
      "text/plain": [
       "array([[0.49290551, 0.3704868 , 0.71871957, 0.80878183],\n",
       "       [0.49340354, 0.37196479, 0.71789137, 0.80890116],\n",
       "       [0.49347013, 0.37521648, 0.71622033, 0.80839771],\n",
       "       ...,\n",
       "       [0.61247482, 0.13986347, 0.83311212, 0.9136262 ],\n",
       "       [0.60232776, 0.20223534, 0.79476774, 0.89963991],\n",
       "       [0.59614315, 0.24054802, 0.77335422, 0.89137919]])"
      ]
     },
     "execution_count": 7,
     "metadata": {},
     "output_type": "execute_result"
    }
   ],
   "source": [
    "sigmoid_layer = Sigmoid()\n",
    "\n",
    "sigmoid_out = sigmoid_layer.forward(affine_out)\n",
    "print(sigmoid_out.shape)\n",
    "sigmoid_out"
   ]
  },
  {
   "cell_type": "markdown",
   "metadata": {},
   "source": [
    "#### `backward()`"
   ]
  },
  {
   "cell_type": "code",
   "execution_count": 8,
   "metadata": {},
   "outputs": [
    {
     "data": {
      "text/plain": [
       "(300, 4)"
      ]
     },
     "execution_count": 8,
     "metadata": {},
     "output_type": "execute_result"
    }
   ],
   "source": [
    "dout = np.random.randn(300, 4)\n",
    "\n",
    "sigmoid_layer.backward(dout).shape"
   ]
  },
  {
   "cell_type": "markdown",
   "metadata": {},
   "source": [
    "## Net `TwoLayerNet`"
   ]
  },
  {
   "cell_type": "markdown",
   "metadata": {},
   "source": [
    "- 1층 : `Affine()`, `Sigmoid()`\n",
    "\n",
    "\n",
    "- 2층 : `Affine()`"
   ]
  },
  {
   "cell_type": "code",
   "execution_count": 9,
   "metadata": {},
   "outputs": [
    {
     "data": {
      "text/plain": [
       "<common.net.TwoLayerNet at 0x1278a3390>"
      ]
     },
     "execution_count": 9,
     "metadata": {},
     "output_type": "execute_result"
    }
   ],
   "source": [
    "input_size = 2\n",
    "hidden_size = 4\n",
    "output_size = 3\n",
    "\n",
    "model = TwoLayerNet(input_size, hidden_size, output_size)\n",
    "model"
   ]
  },
  {
   "cell_type": "code",
   "execution_count": 10,
   "metadata": {},
   "outputs": [
    {
     "data": {
      "text/plain": [
       "[array([[ 0.27725395, -1.1984172 , -1.60785104, -0.26325502],\n",
       "        [-0.53865033, -0.77738062,  1.42648582,  1.73574814]]),\n",
       " array([ 1.18685601, -0.21685566,  0.03889043,  1.04370841]),\n",
       " array([[ 0.65556093, -1.14438169, -1.82662574],\n",
       "        [-0.55864187,  0.70828449, -0.3492433 ],\n",
       "        [-0.50515086, -0.69047045,  1.77390517],\n",
       "        [-0.22669244, -1.49770221,  0.50534707]]),\n",
       " array([-1.56520622,  0.24386752,  2.8749947 ])]"
      ]
     },
     "execution_count": 10,
     "metadata": {},
     "output_type": "execute_result"
    }
   ],
   "source": [
    "model.params"
   ]
  },
  {
   "cell_type": "code",
   "execution_count": 11,
   "metadata": {},
   "outputs": [
    {
     "name": "stdout",
     "output_type": "stream",
     "text": [
      "(300, 3)\n"
     ]
    }
   ],
   "source": [
    "y = model.predict(x)\n",
    "print(y.shape)"
   ]
  },
  {
   "cell_type": "code",
   "execution_count": 12,
   "metadata": {},
   "outputs": [
    {
     "data": {
      "text/plain": [
       "2.8811070129179925"
      ]
     },
     "execution_count": 12,
     "metadata": {},
     "output_type": "execute_result"
    }
   ],
   "source": [
    "model.forward(x, t)"
   ]
  },
  {
   "cell_type": "code",
   "execution_count": 13,
   "metadata": {
    "scrolled": true
   },
   "outputs": [
    {
     "data": {
      "text/plain": [
       "(300, 2)"
      ]
     },
     "execution_count": 13,
     "metadata": {},
     "output_type": "execute_result"
    }
   ],
   "source": [
    "model.backward().shape"
   ]
  },
  {
   "cell_type": "markdown",
   "metadata": {},
   "source": [
    "## function `softmax`"
   ]
  },
  {
   "cell_type": "code",
   "execution_count": 14,
   "metadata": {},
   "outputs": [
    {
     "data": {
      "text/plain": [
       "(300, 3)"
      ]
     },
     "execution_count": 14,
     "metadata": {},
     "output_type": "execute_result"
    }
   ],
   "source": [
    "y = softmax(y)\n",
    "y.shape"
   ]
  },
  {
   "cell_type": "markdown",
   "metadata": {},
   "source": [
    "## function `cross_entropy_error`"
   ]
  },
  {
   "cell_type": "code",
   "execution_count": 15,
   "metadata": {},
   "outputs": [
    {
     "data": {
      "text/plain": [
       "2.8811070129179925"
      ]
     },
     "execution_count": 15,
     "metadata": {},
     "output_type": "execute_result"
    }
   ],
   "source": [
    "cross_entropy_error(y, t)"
   ]
  },
  {
   "cell_type": "markdown",
   "metadata": {},
   "source": [
    "## Layer `MatMul`\n",
    "- 내적(dot) 계층 : $z = Wx$"
   ]
  },
  {
   "cell_type": "code",
   "execution_count": 16,
   "metadata": {},
   "outputs": [
    {
     "data": {
      "text/plain": [
       "<common.layer.MatMul at 0x12788d6a0>"
      ]
     },
     "execution_count": 16,
     "metadata": {},
     "output_type": "execute_result"
    }
   ],
   "source": [
    "matmul_layer = MatMul(W)\n",
    "matmul_layer"
   ]
  },
  {
   "cell_type": "markdown",
   "metadata": {},
   "source": [
    "#### `forward()`"
   ]
  },
  {
   "cell_type": "code",
   "execution_count": 17,
   "metadata": {},
   "outputs": [
    {
     "data": {
      "text/plain": [
       "(300, 4)"
      ]
     },
     "execution_count": 17,
     "metadata": {},
     "output_type": "execute_result"
    }
   ],
   "source": [
    "matmul_layer.forward(x).shape"
   ]
  },
  {
   "cell_type": "markdown",
   "metadata": {},
   "source": [
    "#### `backward()`"
   ]
  },
  {
   "cell_type": "code",
   "execution_count": 18,
   "metadata": {},
   "outputs": [
    {
     "data": {
      "text/plain": [
       "(300, 2)"
      ]
     },
     "execution_count": 18,
     "metadata": {},
     "output_type": "execute_result"
    }
   ],
   "source": [
    "dout = np.random.randn(300, 4)\n",
    "\n",
    "matmul_layer.backward(dout).shape"
   ]
  },
  {
   "cell_type": "markdown",
   "metadata": {},
   "source": [
    "## Layer `SoftmaxWithLoss`"
   ]
  },
  {
   "cell_type": "code",
   "execution_count": 19,
   "metadata": {},
   "outputs": [
    {
     "data": {
      "text/plain": [
       "<common.layer.SoftmaxWithLoss at 0x1278757f0>"
      ]
     },
     "execution_count": 19,
     "metadata": {},
     "output_type": "execute_result"
    }
   ],
   "source": [
    "softmax_with_loss_layer = SoftmaxWithLoss()\n",
    "softmax_with_loss_layer"
   ]
  },
  {
   "cell_type": "code",
   "execution_count": 20,
   "metadata": {},
   "outputs": [
    {
     "data": {
      "text/plain": [
       "1.204894230936723"
      ]
     },
     "execution_count": 20,
     "metadata": {},
     "output_type": "execute_result"
    }
   ],
   "source": [
    "softmax_with_loss_layer.forward(y, t)"
   ]
  },
  {
   "cell_type": "code",
   "execution_count": 21,
   "metadata": {},
   "outputs": [
    {
     "data": {
      "text/plain": [
       "(300, 3)"
      ]
     },
     "execution_count": 21,
     "metadata": {},
     "output_type": "execute_result"
    }
   ],
   "source": [
    "softmax_with_loss_layer.backward().shape"
   ]
  },
  {
   "cell_type": "markdown",
   "metadata": {},
   "source": [
    "---"
   ]
  },
  {
   "cell_type": "markdown",
   "metadata": {},
   "source": [
    "## Train"
   ]
  },
  {
   "cell_type": "markdown",
   "metadata": {},
   "source": [
    "#### hyper parameter setting"
   ]
  },
  {
   "cell_type": "code",
   "execution_count": 22,
   "metadata": {},
   "outputs": [],
   "source": [
    "max_epoch = 300\n",
    "batch_size = 30\n",
    "hidden_size = 10\n",
    "learning_rate = 1"
   ]
  },
  {
   "cell_type": "code",
   "execution_count": 23,
   "metadata": {},
   "outputs": [
    {
     "data": {
      "text/plain": [
       "<common.net.TwoLayerNet at 0x12788db38>"
      ]
     },
     "execution_count": 23,
     "metadata": {},
     "output_type": "execute_result"
    }
   ],
   "source": [
    "spiral = Spiral()\n",
    "x, t = spiral.load_data()\n",
    "model = TwoLayerNet(input_size=2, hidden_size=hidden_size, output_size=3)\n",
    "model"
   ]
  },
  {
   "cell_type": "code",
   "execution_count": 24,
   "metadata": {},
   "outputs": [
    {
     "data": {
      "text/plain": [
       "<common.optimizer.SGD at 0x12788d4a8>"
      ]
     },
     "execution_count": 24,
     "metadata": {},
     "output_type": "execute_result"
    }
   ],
   "source": [
    "optimizer = SGD(lr=learning_rate)\n",
    "optimizer"
   ]
  },
  {
   "cell_type": "code",
   "execution_count": 25,
   "metadata": {
    "scrolled": false
   },
   "outputs": [
    {
     "name": "stdout",
     "output_type": "stream",
     "text": [
      "epoch 10 | step 10 / 10 | loss 0.77\n",
      "epoch 20 | step 10 / 10 | loss 0.74\n",
      "epoch 30 | step 10 / 10 | loss 0.69\n",
      "epoch 40 | step 10 / 10 | loss 0.61\n",
      "epoch 50 | step 10 / 10 | loss 0.56\n",
      "epoch 60 | step 10 / 10 | loss 0.45\n",
      "epoch 70 | step 10 / 10 | loss 0.38\n",
      "epoch 80 | step 10 / 10 | loss 0.31\n",
      "epoch 90 | step 10 / 10 | loss 0.29\n",
      "epoch 100 | step 10 / 10 | loss 0.24\n",
      "epoch 110 | step 10 / 10 | loss 0.21\n",
      "epoch 120 | step 10 / 10 | loss 0.20\n",
      "epoch 130 | step 10 / 10 | loss 0.18\n",
      "epoch 140 | step 10 / 10 | loss 0.17\n",
      "epoch 150 | step 10 / 10 | loss 0.15\n",
      "epoch 160 | step 10 / 10 | loss 0.14\n",
      "epoch 170 | step 10 / 10 | loss 0.14\n",
      "epoch 180 | step 10 / 10 | loss 0.14\n",
      "epoch 190 | step 10 / 10 | loss 0.13\n",
      "epoch 200 | step 10 / 10 | loss 0.12\n",
      "epoch 210 | step 10 / 10 | loss 0.13\n",
      "epoch 220 | step 10 / 10 | loss 0.11\n",
      "epoch 230 | step 10 / 10 | loss 0.11\n",
      "epoch 240 | step 10 / 10 | loss 0.11\n",
      "epoch 250 | step 10 / 10 | loss 0.10\n",
      "epoch 260 | step 10 / 10 | loss 0.10\n",
      "epoch 270 | step 10 / 10 | loss 0.10\n",
      "epoch 280 | step 10 / 10 | loss 0.09\n",
      "epoch 290 | step 10 / 10 | loss 0.09\n",
      "epoch 300 | step 10 / 10 | loss 0.09\n"
     ]
    }
   ],
   "source": [
    "data_size = len(x)\n",
    "max_iters = data_size // batch_size\n",
    "curr_loss = 0\n",
    "loss_count = 0\n",
    "loss_list = []\n",
    "\n",
    "for epoch in range(max_epoch):\n",
    "    \n",
    "    # shuffle data\n",
    "    idx = np.random.permutation(data_size)\n",
    "    shuffle_x = x[idx]\n",
    "    shuffle_t = t[idx]\n",
    "    \n",
    "    for iters in range(max_iters):\n",
    "        batch_x = shuffle_x[iters*batch_size:(iters+1)*batch_size]\n",
    "        batch_t = shuffle_t[iters*batch_size:(iters+1)*batch_size]\n",
    "        \n",
    "        # loss\n",
    "        loss = model.forward(batch_x, batch_t)\n",
    "        \n",
    "        # back propagation\n",
    "        model.backward()\n",
    "        \n",
    "        # update gradient\n",
    "        optimizer.update(model.params, model.grads)\n",
    "        \n",
    "        curr_loss += loss\n",
    "        loss_count += 1\n",
    "        \n",
    "        if (iters+1) % 10 == 0:\n",
    "            avg_loss = curr_loss / loss_count\n",
    "            loss_list.append(avg_loss)\n",
    "            curr_loss, loss_count = 0, 0\n",
    "        \n",
    "            if ((epoch+1) % 10 == 0):\n",
    "                print(\"epoch %d | step %d / %d | loss %.2f\" % (epoch+1, iters+1, max_iters, avg_loss))"
   ]
  },
  {
   "cell_type": "code",
   "execution_count": 26,
   "metadata": {},
   "outputs": [
    {
     "data": {
      "image/png": "[encoded data removed]",
      "text/plain": [
       "<Figure size 576x360 with 1 Axes>"
      ]
     },
     "metadata": {
      "image/png": {
       "height": 319,
       "width": 489
      },
      "needs_background": "light"
     },
     "output_type": "display_data"
    }
   ],
   "source": [
    "plt.figure(figsize=(8, 5))\n",
    "plt.plot(loss_list)\n",
    "plt.title(\"train loss\")\n",
    "plt.show()"
   ]
  },
  {
   "cell_type": "markdown",
   "metadata": {},
   "source": [
    "## `trainer`"
   ]
  },
  {
   "cell_type": "code",
   "execution_count": 27,
   "metadata": {
    "scrolled": false
   },
   "outputs": [
    {
     "name": "stdout",
     "output_type": "stream",
     "text": [
      "time 0s | epoch 30 | step 10 / 10 | loss 0.69\n",
      "time 0s | epoch 60 | step 10 / 10 | loss 0.45\n",
      "time 0s | epoch 90 | step 10 / 10 | loss 0.29\n",
      "time 0s | epoch 120 | step 10 / 10 | loss 0.20\n",
      "time 0s | epoch 150 | step 10 / 10 | loss 0.15\n",
      "time 0s | epoch 180 | step 10 / 10 | loss 0.14\n",
      "time 0s | epoch 210 | step 10 / 10 | loss 0.13\n",
      "time 0s | epoch 240 | step 10 / 10 | loss 0.11\n",
      "time 0s | epoch 270 | step 10 / 10 | loss 0.10\n",
      "time 0s | epoch 300 | step 10 / 10 | loss 0.09\n"
     ]
    }
   ],
   "source": [
    "max_epoch = 300\n",
    "bartch_size = 30\n",
    "gidden_size = 10\n",
    "learning_rate = 1\n",
    "\n",
    "x, t = spiral.load_data()\n",
    "model = TwoLayerNet(input_size=2, hidden_size=hidden_size, output_size=3)\n",
    "optimizer = SGD(lr=learning_rate)\n",
    "\n",
    "trainer = Trainer(model, optimizer)\n",
    "trainer.fit(x, t, max_epoch, batch_size, log_step=10, epoch_log_step=30)"
   ]
  },
  {
   "cell_type": "code",
   "execution_count": 28,
   "metadata": {},
   "outputs": [
    {
     "data": {
      "image/png": "[encoded data removed]",
      "text/plain": [
       "<Figure size 576x432 with 1 Axes>"
      ]
     },
     "metadata": {
      "image/png": {
       "height": 377,
       "width": 504
      },
      "needs_background": "light"
     },
     "output_type": "display_data"
    }
   ],
   "source": [
    "trainer.plot()"
   ]
  }
 ],
 "metadata": {
  "kernelspec": {
   "display_name": "Python 3",
   "language": "python",
   "name": "python3"
  },
  "language_info": {
   "codemirror_mode": {
    "name": "ipython",
    "version": 3
   },
   "file_extension": ".py",
   "mimetype": "text/x-python",
   "name": "python",
   "nbconvert_exporter": "python",
   "pygments_lexer": "ipython3",
   "version": "3.7.0"
  }
 },
 "nbformat": 4,
 "nbformat_minor": 2
}
