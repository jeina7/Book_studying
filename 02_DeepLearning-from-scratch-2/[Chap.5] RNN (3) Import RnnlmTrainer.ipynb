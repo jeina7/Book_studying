{
 "cells": [
  {
   "cell_type": "code",
   "execution_count": 1,
   "metadata": {},
   "outputs": [],
   "source": [
    "from common.np import *"
   ]
  },
  {
   "cell_type": "markdown",
   "metadata": {},
   "source": [
    "# Chapter 5. RNN"
   ]
  },
  {
   "cell_type": "markdown",
   "metadata": {},
   "source": [
    "### `Trainer` 객체를 import해서 학습"
   ]
  },
  {
   "cell_type": "code",
   "execution_count": 2,
   "metadata": {},
   "outputs": [],
   "source": [
    "from common.simple_models import SimpleRnnlm\n",
    "from common.optimizer import SGD\n",
    "from common.dataset import PTB"
   ]
  },
  {
   "cell_type": "code",
   "execution_count": 3,
   "metadata": {},
   "outputs": [],
   "source": [
    "batch_size = 10\n",
    "wordvec_size = 100\n",
    "hidden_size = 100\n",
    "time_size = 5 # Truncated BPTT 블록 안의 RNN 개수\n",
    "lr = 0.1\n",
    "max_epoch = 100\n",
    "log_step = 10"
   ]
  },
  {
   "cell_type": "code",
   "execution_count": 4,
   "metadata": {},
   "outputs": [],
   "source": [
    "ptb = PTB()\n",
    "corpus, word_to_id, id_to_word = ptb.load_data('train')\n",
    "corpus_size = 1000\n",
    "corpus = corpus[:corpus_size]\n",
    "vocab_size = int(max(corpus) + 1)"
   ]
  },
  {
   "cell_type": "code",
   "execution_count": 5,
   "metadata": {},
   "outputs": [],
   "source": [
    "xs = corpus[:-1]\n",
    "ts = corpus[1:]"
   ]
  },
  {
   "cell_type": "code",
   "execution_count": 6,
   "metadata": {},
   "outputs": [],
   "source": [
    "from common.trainer import RnnlmTrainer"
   ]
  },
  {
   "cell_type": "code",
   "execution_count": 7,
   "metadata": {},
   "outputs": [],
   "source": [
    "model = SimpleRnnlm(vocab_size, wordvec_size, hidden_size)\n",
    "optimizer = SGD(lr)\n",
    "trainer = RnnlmTrainer(model, optimizer)"
   ]
  },
  {
   "cell_type": "code",
   "execution_count": 8,
   "metadata": {
    "scrolled": false
   },
   "outputs": [
    {
     "name": "stdout",
     "output_type": "stream",
     "text": [
      "time 0s | epoch 1 | step 19 / 19 | ppl 413.72\n",
      "time 0s | epoch 2 | step 19 / 19 | ppl 315.67\n",
      "time 0s | epoch 3 | step 19 / 19 | ppl 230.24\n",
      "time 0s | epoch 4 | step 19 / 19 | ppl 217.20\n",
      "time 0s | epoch 5 | step 19 / 19 | ppl 212.26\n",
      "time 0s | epoch 6 | step 19 / 19 | ppl 205.22\n",
      "time 0s | epoch 7 | step 19 / 19 | ppl 199.90\n",
      "time 0s | epoch 8 | step 19 / 19 | ppl 194.42\n",
      "time 0s | epoch 9 | step 19 / 19 | ppl 192.86\n",
      "time 0s | epoch 10 | step 19 / 19 | ppl 193.51\n",
      "time 0s | epoch 11 | step 19 / 19 | ppl 191.67\n",
      "time 0s | epoch 12 | step 19 / 19 | ppl 193.61\n",
      "time 0s | epoch 13 | step 19 / 19 | ppl 186.35\n",
      "time 0s | epoch 14 | step 19 / 19 | ppl 184.68\n",
      "time 0s | epoch 15 | step 19 / 19 | ppl 188.44\n",
      "time 0s | epoch 16 | step 19 / 19 | ppl 184.32\n",
      "time 0s | epoch 17 | step 19 / 19 | ppl 186.26\n",
      "time 0s | epoch 18 | step 19 / 19 | ppl 182.09\n",
      "time 0s | epoch 19 | step 19 / 19 | ppl 180.95\n",
      "time 0s | epoch 20 | step 19 / 19 | ppl 182.91\n",
      "time 0s | epoch 21 | step 19 / 19 | ppl 178.64\n",
      "time 0s | epoch 22 | step 19 / 19 | ppl 179.80\n",
      "time 0s | epoch 23 | step 19 / 19 | ppl 178.48\n",
      "time 0s | epoch 24 | step 19 / 19 | ppl 175.92\n",
      "time 0s | epoch 25 | step 19 / 19 | ppl 179.42\n",
      "time 0s | epoch 26 | step 19 / 19 | ppl 177.47\n",
      "time 0s | epoch 27 | step 19 / 19 | ppl 172.89\n",
      "time 0s | epoch 28 | step 19 / 19 | ppl 166.48\n",
      "time 0s | epoch 29 | step 19 / 19 | ppl 166.66\n",
      "time 0s | epoch 30 | step 19 / 19 | ppl 165.13\n",
      "time 0s | epoch 31 | step 19 / 19 | ppl 162.29\n",
      "time 1s | epoch 32 | step 19 / 19 | ppl 161.05\n",
      "time 1s | epoch 33 | step 19 / 19 | ppl 157.48\n",
      "time 1s | epoch 34 | step 19 / 19 | ppl 151.34\n",
      "time 1s | epoch 35 | step 19 / 19 | ppl 148.78\n",
      "time 1s | epoch 36 | step 19 / 19 | ppl 147.69\n",
      "time 1s | epoch 37 | step 19 / 19 | ppl 143.48\n",
      "time 1s | epoch 38 | step 19 / 19 | ppl 135.81\n",
      "time 1s | epoch 39 | step 19 / 19 | ppl 134.59\n",
      "time 1s | epoch 40 | step 19 / 19 | ppl 131.99\n",
      "time 1s | epoch 41 | step 19 / 19 | ppl 123.90\n",
      "time 1s | epoch 42 | step 19 / 19 | ppl 121.83\n",
      "time 1s | epoch 43 | step 19 / 19 | ppl 120.84\n",
      "time 1s | epoch 44 | step 19 / 19 | ppl 114.86\n",
      "time 1s | epoch 45 | step 19 / 19 | ppl 110.48\n",
      "time 1s | epoch 46 | step 19 / 19 | ppl 107.55\n",
      "time 1s | epoch 47 | step 19 / 19 | ppl 100.60\n",
      "time 1s | epoch 48 | step 19 / 19 | ppl 96.74\n",
      "time 1s | epoch 49 | step 19 / 19 | ppl 92.12\n",
      "time 1s | epoch 50 | step 19 / 19 | ppl 89.22\n",
      "time 1s | epoch 51 | step 19 / 19 | ppl 86.71\n",
      "time 1s | epoch 52 | step 19 / 19 | ppl 83.37\n",
      "time 1s | epoch 53 | step 19 / 19 | ppl 77.30\n",
      "time 1s | epoch 54 | step 19 / 19 | ppl 74.15\n",
      "time 1s | epoch 55 | step 19 / 19 | ppl 69.73\n",
      "time 1s | epoch 56 | step 19 / 19 | ppl 69.21\n",
      "time 1s | epoch 57 | step 19 / 19 | ppl 65.03\n",
      "time 1s | epoch 58 | step 19 / 19 | ppl 60.55\n",
      "time 1s | epoch 59 | step 19 / 19 | ppl 56.40\n",
      "time 2s | epoch 60 | step 19 / 19 | ppl 54.31\n",
      "time 2s | epoch 61 | step 19 / 19 | ppl 53.06\n",
      "time 2s | epoch 62 | step 19 / 19 | ppl 47.87\n",
      "time 2s | epoch 63 | step 19 / 19 | ppl 45.56\n",
      "time 2s | epoch 64 | step 19 / 19 | ppl 42.59\n",
      "time 2s | epoch 65 | step 19 / 19 | ppl 40.90\n",
      "time 2s | epoch 66 | step 19 / 19 | ppl 40.58\n",
      "time 2s | epoch 67 | step 19 / 19 | ppl 36.43\n",
      "time 2s | epoch 68 | step 19 / 19 | ppl 35.39\n",
      "time 2s | epoch 69 | step 19 / 19 | ppl 33.49\n",
      "time 2s | epoch 70 | step 19 / 19 | ppl 31.51\n",
      "time 2s | epoch 71 | step 19 / 19 | ppl 31.25\n",
      "time 2s | epoch 72 | step 19 / 19 | ppl 28.28\n",
      "time 2s | epoch 73 | step 19 / 19 | ppl 26.52\n",
      "time 2s | epoch 74 | step 19 / 19 | ppl 24.45\n",
      "time 2s | epoch 75 | step 19 / 19 | ppl 23.74\n",
      "time 2s | epoch 76 | step 19 / 19 | ppl 23.30\n",
      "time 2s | epoch 77 | step 19 / 19 | ppl 20.48\n",
      "time 2s | epoch 78 | step 19 / 19 | ppl 20.18\n",
      "time 2s | epoch 79 | step 19 / 19 | ppl 18.72\n",
      "time 2s | epoch 80 | step 19 / 19 | ppl 17.83\n",
      "time 2s | epoch 81 | step 19 / 19 | ppl 16.62\n",
      "time 2s | epoch 82 | step 19 / 19 | ppl 15.63\n",
      "time 2s | epoch 83 | step 19 / 19 | ppl 14.70\n",
      "time 2s | epoch 84 | step 19 / 19 | ppl 14.41\n",
      "time 2s | epoch 85 | step 19 / 19 | ppl 13.29\n",
      "time 2s | epoch 86 | step 19 / 19 | ppl 12.56\n",
      "time 2s | epoch 87 | step 19 / 19 | ppl 12.22\n",
      "time 2s | epoch 88 | step 19 / 19 | ppl 11.63\n",
      "time 2s | epoch 89 | step 19 / 19 | ppl 10.93\n",
      "time 3s | epoch 90 | step 19 / 19 | ppl 10.42\n",
      "time 3s | epoch 91 | step 19 / 19 | ppl 9.74\n",
      "time 3s | epoch 92 | step 19 / 19 | ppl 9.00\n",
      "time 3s | epoch 93 | step 19 / 19 | ppl 8.92\n",
      "time 3s | epoch 94 | step 19 / 19 | ppl 8.48\n",
      "time 3s | epoch 95 | step 19 / 19 | ppl 8.36\n",
      "time 3s | epoch 96 | step 19 / 19 | ppl 7.72\n",
      "time 3s | epoch 97 | step 19 / 19 | ppl 7.28\n",
      "time 3s | epoch 98 | step 19 / 19 | ppl 7.03\n",
      "time 3s | epoch 99 | step 19 / 19 | ppl 6.46\n",
      "time 3s | epoch 100 | step 19 / 19 | ppl 6.01\n"
     ]
    }
   ],
   "source": [
    "trainer.fit(xs, ts, max_epoch, batch_size, time_size, loss_save_step=10, log_step=19)"
   ]
  },
  {
   "cell_type": "code",
   "execution_count": 9,
   "metadata": {},
   "outputs": [
    {
     "data": {
      "image/png": "[encoded data removed]",
      "text/plain": [
       "<Figure size 432x288 with 1 Axes>"
      ]
     },
     "metadata": {
      "needs_background": "light"
     },
     "output_type": "display_data"
    }
   ],
   "source": [
    "trainer.plot()"
   ]
  }
 ],
 "metadata": {
  "kernelspec": {
   "display_name": "Python 3",
   "language": "python",
   "name": "python3"
  },
  "language_info": {
   "codemirror_mode": {
    "name": "ipython",
    "version": 3
   },
   "file_extension": ".py",
   "mimetype": "text/x-python",
   "name": "python",
   "nbconvert_exporter": "python",
   "pygments_lexer": "ipython3",
   "version": "3.6.9"
  }
 },
 "nbformat": 4,
 "nbformat_minor": 2
}
