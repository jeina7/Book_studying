{
 "cells": [
  {
   "cell_type": "code",
   "execution_count": 1,
   "metadata": {},
   "outputs": [],
   "source": [
    "from common.util import preprocess, create_co_matrix, cos_similarity, most_similar"
   ]
  },
  {
   "cell_type": "code",
   "execution_count": 2,
   "metadata": {},
   "outputs": [
    {
     "data": {
      "text/plain": [
       "\"Thomas Jefferson once said I'm a great believer in luck, and I find the harder I work, the more I have of it. What, though, is luck? Webster's dictionary suggests that luck is the events or circumstances that operate for or against an individual. In truth, luck has nothing to do with something operating for or against you. Luck is not a matter of chance. It is a matter of being open to new experiences, perseverance, hard work, and positive thinking. When seventeen year old Steven Spielberg spent some time with his cousin in the summer of 1965, they toured Universal pictures. The tram stopped at none of the sound stages. Spielberg snuck off on a bathroom break to watch a bit of the real action. When he encountered an unfamiliar face who demanded to know what he was doing, he told him his story. The man turned out to be the head of the editorial department. Spielberg got a pass to the lot for the very next day and showed a very impressed Chuck Silvers four of his eight millimeter films. This was the foot in the door Spielberg needed to start squatting on the lot, a decision that led to his first contract with Universal Studios. Studies have shown that lucky people tend to be far more open to new experiences. Those who are unlucky are creatures of habit, never varying from one day to the next. If you want to be lucky, add some variety to your life. Meet new people, go to new places, and increase the possibility of those chance opportunities the lucky people always seem to run into.\""
      ]
     },
     "execution_count": 2,
     "metadata": {},
     "output_type": "execute_result"
    }
   ],
   "source": [
    "text = \"Thomas Jefferson once said I'm a great believer in luck, and I find the harder I work, \\\n",
    "the more I have of it. What, though, is luck? Webster's dictionary suggests that luck is the \\\n",
    "events or circumstances that operate for or against an individual. In truth, luck has nothing \\\n",
    "to do with something operating for or against you. Luck is not a matter of chance. \\\n",
    "It is a matter of being open to new experiences, perseverance, hard work, and positive thinking. \\\n",
    "When seventeen year old Steven Spielberg spent some time with his cousin in the summer of 1965, \\\n",
    "they toured Universal pictures. The tram stopped at none of the sound stages. \\\n",
    "Spielberg snuck off on a bathroom break to watch a bit of the real action. \\\n",
    "When he encountered an unfamiliar face who demanded to know what he was doing, \\\n",
    "he told him his story. The man turned out to be the head of the editorial department. \\\n",
    "Spielberg got a pass to the lot for the very next day and showed a very impressed \\\n",
    "Chuck Silvers four of his eight millimeter films. This was the foot in the door Spielberg \\\n",
    "needed to start squatting on the lot, a decision that led to his first contract with Universal Studios. \\\n",
    "Studies have shown that lucky people tend to be far more open to new experiences. Those who are \\\n",
    "unlucky are creatures of habit, never varying from one day to the next. If you want to be lucky, \\\n",
    "add some variety to your life. Meet new people, go to new places, and increase the possibility of \\\n",
    "those chance opportunities the lucky people always seem to run into.\"\n",
    "\n",
    "text"
   ]
  },
  {
   "cell_type": "markdown",
   "metadata": {},
   "source": [
    "## `courpus`, `word_to_id`, `id_to_word`"
   ]
  },
  {
   "cell_type": "markdown",
   "metadata": {},
   "source": [
    "- `coupus` : 말뭉치, 자연어 상태의 원래 데이터를 ID 형태로 바꾼 것\n",
    "\n",
    "\n",
    "- `word_to_id` : 단어를 ID로 바꿔주는 딕셔너리\n",
    "\n",
    "\n",
    "- `id_to_word` : 단어의 ID를 단어로 바꿔주는 딕셔너리"
   ]
  },
  {
   "cell_type": "code",
   "execution_count": 3,
   "metadata": {},
   "outputs": [],
   "source": [
    "corpus, word_to_id, id_to_word = preprocess(text)"
   ]
  },
  {
   "cell_type": "code",
   "execution_count": 4,
   "metadata": {},
   "outputs": [
    {
     "data": {
      "text/plain": [
       "array([  0,   1,   2,   3,   4,   5,   6,   7,   8,   9,  10,  11,   4,\n",
       "        12,  13,  14,   4,  15,  13,  16,   4,  17,  18,  19,  20,  21,\n",
       "        22,  23,  10,  24,  25,  26,  27,  28,  29,  10,  23,  13,  30,\n",
       "        31,  32,  29,  33,  34,  31,  35,  36,  37,  20,   9,  38,  10,\n",
       "        39,  40,  41,  42,  43,  44,  45,  34,  31,  35,  46,  20,  10,\n",
       "        23,  47,   6,  48,  18,  49,  20,  19,  23,   6,  48,  18,  50,\n",
       "        51,  41,  52,  53,  54,  55,  15,  11,  56,  57,  20,  58,  59,\n",
       "        60,  61,  62,  63,  64,  65,  66,  43,  67,  68,   9,  13,  69,\n",
       "        18,  70,  71,  72,  73,  74,  20,  13,  75,  76,  77,  78,  18,\n",
       "        13,  79,  80,  20,  63,  81,  82,  83,   6,  84,  85,  41,  86,\n",
       "         6,  87,  18,  13,  88,  89,  20,  58,  90,  91,  36,  92,  93,\n",
       "        94,  95,  41,  96,  21,  90,  97,  98,  90,  99, 100,  67, 101,\n",
       "        20,  13, 102, 103, 104,  41, 105,  13, 106,  18,  13, 107, 108,\n",
       "        20,  63, 109,   6, 110,  41,  13, 111,  34,  13, 112, 113, 114,\n",
       "        11, 115,   6, 112, 116, 117, 118, 119,  18,  67, 120, 121, 122,\n",
       "        20, 123,  97,  13, 124,   9,  13, 125,  63, 126,  41, 127, 128,\n",
       "        83,  13, 111,   6, 129,  29, 130,  41,  67, 131, 132,  43,  73,\n",
       "       133,  20, 134,  17, 135,  29, 136, 137, 138,  41, 105, 139,  16,\n",
       "        51,  41,  52,  53,  20, 140,  94, 141, 142, 141, 143,  18, 144,\n",
       "       145, 146, 147, 148, 114,  41,  13, 113,  20, 149,  46, 150,  41,\n",
       "       105, 136, 151,  65, 152,  41, 153, 154,  20, 155,  52, 137, 156,\n",
       "        41,  52, 157,  11, 158,  13, 159,  18, 140,  49, 160,  13, 136,\n",
       "       137, 161, 162,  41, 163, 164,  20])"
      ]
     },
     "execution_count": 4,
     "metadata": {},
     "output_type": "execute_result"
    }
   ],
   "source": [
    "corpus"
   ]
  },
  {
   "cell_type": "code",
   "execution_count": 5,
   "metadata": {},
   "outputs": [
    {
     "data": {
      "text/plain": [
       "293"
      ]
     },
     "execution_count": 5,
     "metadata": {},
     "output_type": "execute_result"
    }
   ],
   "source": [
    "len(corpus)"
   ]
  },
  {
   "cell_type": "markdown",
   "metadata": {},
   "source": [
    "- 총 290단어로 이루어진 말뭉치이다."
   ]
  },
  {
   "cell_type": "code",
   "execution_count": 6,
   "metadata": {},
   "outputs": [
    {
     "data": {
      "text/plain": [
       "(165, 165)"
      ]
     },
     "execution_count": 6,
     "metadata": {},
     "output_type": "execute_result"
    }
   ],
   "source": [
    "len(word_to_id), len(id_to_word)"
   ]
  },
  {
   "cell_type": "markdown",
   "metadata": {},
   "source": [
    "- unique한 단어는 총 170개이다."
   ]
  },
  {
   "cell_type": "markdown",
   "metadata": {},
   "source": [
    "## co-occurence Matrix"
   ]
  },
  {
   "cell_type": "markdown",
   "metadata": {},
   "source": [
    "- 동시-발생행렬 : 각 단어에 대해 그 주변에 다른 단어가 얼마나(빈도수) 나왔는지에 대한 정보를 담고 있는 행렬"
   ]
  },
  {
   "cell_type": "code",
   "execution_count": 7,
   "metadata": {},
   "outputs": [
    {
     "name": "stdout",
     "output_type": "stream",
     "text": [
      "(165, 165)\n"
     ]
    },
    {
     "data": {
      "text/plain": [
       "array([[0, 1, 1, ..., 0, 0, 0],\n",
       "       [1, 0, 1, ..., 0, 0, 0],\n",
       "       [1, 1, 0, ..., 0, 0, 0],\n",
       "       ...,\n",
       "       [0, 0, 0, ..., 0, 1, 0],\n",
       "       [0, 0, 0, ..., 1, 0, 1],\n",
       "       [0, 0, 0, ..., 0, 1, 0]], dtype=int32)"
      ]
     },
     "execution_count": 7,
     "metadata": {},
     "output_type": "execute_result"
    }
   ],
   "source": [
    "co_matrix = create_co_matrix(corpus, window_size=2)\n",
    "print(co_matrix.shape)\n",
    "co_matrix"
   ]
  },
  {
   "cell_type": "markdown",
   "metadata": {},
   "source": [
    "## cosine Similarity"
   ]
  },
  {
   "cell_type": "markdown",
   "metadata": {},
   "source": [
    "$cosine\\_similarity(x, y) = \\frac {x \\cdot y}{||x||\\  ||y||}$"
   ]
  },
  {
   "cell_type": "code",
   "execution_count": 8,
   "metadata": {},
   "outputs": [
    {
     "data": {
      "text/plain": [
       "0.3535533899303612"
      ]
     },
     "execution_count": 8,
     "metadata": {},
     "output_type": "execute_result"
    }
   ],
   "source": [
    "c0 = co_matrix[word_to_id['work']]\n",
    "c1 = co_matrix[word_to_id['hard']]\n",
    "cos_similarity(c0, c1)"
   ]
  },
  {
   "cell_type": "code",
   "execution_count": 9,
   "metadata": {
    "scrolled": true
   },
   "outputs": [
    {
     "name": "stdout",
     "output_type": "stream",
     "text": [
      "word: work\n",
      "\n",
      "Most Similar words\n",
      "[rank 1] find : 0.7071067798607223\n",
      "[rank 2] i : 0.4677071729709065\n",
      "[rank 3] and : 0.3535533902618174\n",
      "[rank 4] harder : 0.3535533899303612\n",
      "[rank 5] hard : 0.3535533899303612\n"
     ]
    }
   ],
   "source": [
    "most_similar('work', word_to_id, id_to_word, co_matrix)"
   ]
  },
  {
   "cell_type": "code",
   "execution_count": null,
   "metadata": {},
   "outputs": [],
   "source": []
  }
 ],
 "metadata": {
  "kernelspec": {
   "display_name": "Python 3",
   "language": "python",
   "name": "python3"
  },
  "language_info": {
   "codemirror_mode": {
    "name": "ipython",
    "version": 3
   },
   "file_extension": ".py",
   "mimetype": "text/x-python",
   "name": "python",
   "nbconvert_exporter": "python",
   "pygments_lexer": "ipython3",
   "version": "3.7.0"
  }
 },
 "nbformat": 4,
 "nbformat_minor": 2
}
