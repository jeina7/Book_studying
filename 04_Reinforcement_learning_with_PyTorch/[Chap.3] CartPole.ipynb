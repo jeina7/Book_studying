{
 "cells": [
  {
   "cell_type": "code",
   "execution_count": 1,
   "metadata": {},
   "outputs": [],
   "source": [
    "import numpy as np\n",
    "import gym\n",
    "import matplotlib.pyplot as plt\n",
    "%matplotlib inline\n",
    "%config InlineBackend.figure_format = 'retina'"
   ]
  },
  {
   "cell_type": "markdown",
   "metadata": {},
   "source": [
    "#### 동영상 gif로 변환하는 함수"
   ]
  },
  {
   "cell_type": "code",
   "execution_count": 2,
   "metadata": {},
   "outputs": [],
   "source": [
    "from JSAnimation.IPython_display import display_animation\n",
    "from matplotlib import animation\n",
    "from IPython.display import display\n",
    "\n",
    "def display_frames_as_gif(frames):\n",
    "    plt.figure(figsize=(frames[0].shape[1]/72.0, frames[0].shape[0]/72.0), dpi=72)\n",
    "    patch = plt.imshow(frames[0])\n",
    "    plt.axis('off')\n",
    "    \n",
    "    def animate(i):\n",
    "        patch.set_data(frames[i])\n",
    "    \n",
    "    anim = animation.FuncAnimation(plt.gcf(), animate, frames=len(frames), interval=50)\n",
    "    \n",
    "    anim.save('movie_cartpole.mp4')\n",
    "    #display(display_animation(anim, default_mode='loop'))"
   ]
  },
  {
   "cell_type": "markdown",
   "metadata": {},
   "source": [
    "## CartPole Q러닝 구현"
   ]
  },
  {
   "cell_type": "markdown",
   "metadata": {},
   "source": [
    "#### 상수"
   ]
  },
  {
   "cell_type": "code",
   "execution_count": 3,
   "metadata": {},
   "outputs": [],
   "source": [
    "ENV = 'CartPole-v0'\n",
    "NUM_DIZITED = 6\n",
    "GAMMA = 0.99\n",
    "ETA = 0.5\n",
    "MAX_STEPS = 200\n",
    "NUM_EPISODES = 1000"
   ]
  },
  {
   "cell_type": "markdown",
   "metadata": {},
   "source": [
    "### Agent 구현"
   ]
  },
  {
   "cell_type": "code",
   "execution_count": 4,
   "metadata": {},
   "outputs": [],
   "source": [
    "class Agent:\n",
    "    def __init__(self, num_states, num_actions):\n",
    "        self.brain = Brain(num_states, num_actions)\n",
    "        \n",
    "    def update_Q_function(self, observation, action, reward, observation_next):\n",
    "        self.brain.update_Q_table(observation, action, reward, observation_next)\n",
    "        \n",
    "    def get_action(self, observation, step):\n",
    "        action = self.brain.decide_action(observation, step)\n",
    "        return action"
   ]
  },
  {
   "cell_type": "markdown",
   "metadata": {},
   "source": [
    "### Brain 구현"
   ]
  },
  {
   "cell_type": "code",
   "execution_count": 5,
   "metadata": {},
   "outputs": [],
   "source": [
    "class Brain:\n",
    "    def __init__(self, num_states, num_actions):\n",
    "        self.num_actions = num_actions\n",
    "        self.q_table = np.random.uniform(low=0, high=1, size=(NUM_DIZITED**num_states, num_actions))\n",
    "        \n",
    "    # 이산값으로 만들 구간 계산\n",
    "    # 상태는 각 변수 당 총 6가지의 구간으로 나눔\n",
    "    def bins(self, clip_min, clip_max, num):\n",
    "        return np.linspace(clip_min, clip_max, num + 1)[1:-1]\n",
    "    \n",
    "    # 이산값으로 변환 후 6진수로 변환\n",
    "    def digitize_state(self, observation):\n",
    "        cart_pos, cart_v, pole_angle, pole_v = observation\n",
    "        digitized = [\n",
    "            np.digitize(cart_pos, bins=self.bins(-2.4, 2.4, NUM_DIZITED)),\n",
    "            np.digitize(cart_v, bins=self.bins(-3.0, 3.0, NUM_DIZITED)),\n",
    "            np.digitize(pole_angle, bins=self.bins(-0.5, 0.5, NUM_DIZITED)),\n",
    "            np.digitize(pole_v, bins=self.bins(-2.0, 2.0, NUM_DIZITED))\n",
    "        ]\n",
    "\n",
    "        return sum([x * (NUM_DIZITED**idx) for idx, x in enumerate(digitized)])\n",
    "    \n",
    "    def update_Q_table(self, observation, action, reward, observation_next):\n",
    "        state = self.digitize_state(observation)\n",
    "        state_next = self.digitize_state(observation_next)\n",
    "        Max_Q_next = max(self.q_table[state_next][:])\n",
    "        self.q_table[state, action] = self.q_table[state, action] + \\\n",
    "                                      ETA * (reward + GAMMA * Max_Q_next - self.q_table[state, action])\n",
    "        \n",
    "    def decide_action(self, observation, episode):\n",
    "        state = self.digitize_state(observation)\n",
    "        epsilon = 0.5 * (1 / (episode + 1))\n",
    "        \n",
    "        if epsilon <= np.random.uniform(0, 1):\n",
    "            action = np.argmax(self.q_table[state][:])\n",
    "        else:\n",
    "            action = np.random.choice(self.num_actions)\n",
    "        \n",
    "        return action"
   ]
  },
  {
   "cell_type": "markdown",
   "metadata": {},
   "source": [
    "### Environment 구현"
   ]
  },
  {
   "cell_type": "code",
   "execution_count": 6,
   "metadata": {},
   "outputs": [],
   "source": [
    "class Environment:\n",
    "    def __init__(self):\n",
    "        self.env = gym.make(ENV)\n",
    "        num_states = self.env.observation_space.shape[0]\n",
    "        num_actions = self.env.action_space.n\n",
    "        self.agent = Agent(num_states, num_actions)\n",
    "        \n",
    "    def run(self):\n",
    "        complete_episodes = 0\n",
    "        is_episode_final = False\n",
    "        frames = []\n",
    "        \n",
    "        for episode in range(NUM_EPISODES):\n",
    "            observation = self.env.reset()\n",
    "            \n",
    "            for step in range(MAX_STEPS):\n",
    "                if is_episode_final:\n",
    "                    frames.append(self.env.render(mode='rgb_array'))\n",
    "                action = self.agent.get_action(observation, episode)\n",
    "                observation_next, _, done, _ = self.env.step(action)\n",
    "                \n",
    "                if done:\n",
    "                    if step < 195:\n",
    "                        reward = -1\n",
    "                        complete_episodes = 0\n",
    "                    else:\n",
    "                        reward = 1\n",
    "                        complete_episodes += 1\n",
    "                else:\n",
    "                    reward = 0\n",
    "                    \n",
    "                self.agent.update_Q_function(observation, action, reward, observation_next)\n",
    "                \n",
    "                observation = observation_next\n",
    "                \n",
    "                if done:\n",
    "                    print(\"{} Episode: finished after {} steps\".format(episode, step + 1))\n",
    "                    break\n",
    "                \n",
    "            if is_episode_final:\n",
    "                display_frames_as_gif(frames)\n",
    "                break\n",
    "\n",
    "            if complete_episodes >= 10:\n",
    "                print('10 Sequential Episodes Success')\n",
    "                is_episode_final = True"
   ]
  },
  {
   "cell_type": "markdown",
   "metadata": {},
   "source": [
    "## CartPole 학습 구현"
   ]
  },
  {
   "cell_type": "code",
   "execution_count": 7,
   "metadata": {},
   "outputs": [
    {
     "name": "stdout",
     "output_type": "stream",
     "text": [
      "0 Episode: finished after 13 steps\n",
      "1 Episode: finished after 23 steps\n",
      "2 Episode: finished after 13 steps\n",
      "3 Episode: finished after 67 steps\n",
      "4 Episode: finished after 26 steps\n",
      "5 Episode: finished after 19 steps\n",
      "6 Episode: finished after 23 steps\n",
      "7 Episode: finished after 72 steps\n",
      "8 Episode: finished after 9 steps\n",
      "9 Episode: finished after 10 steps\n",
      "10 Episode: finished after 11 steps\n",
      "11 Episode: finished after 13 steps\n",
      "12 Episode: finished after 59 steps\n",
      "13 Episode: finished after 11 steps\n",
      "14 Episode: finished after 41 steps\n",
      "15 Episode: finished after 12 steps\n",
      "16 Episode: finished after 13 steps\n",
      "17 Episode: finished after 10 steps\n",
      "18 Episode: finished after 85 steps\n",
      "19 Episode: finished after 10 steps\n",
      "20 Episode: finished after 13 steps\n",
      "21 Episode: finished after 14 steps\n",
      "22 Episode: finished after 94 steps\n",
      "23 Episode: finished after 14 steps\n",
      "24 Episode: finished after 24 steps\n",
      "25 Episode: finished after 128 steps\n",
      "26 Episode: finished after 73 steps\n",
      "27 Episode: finished after 107 steps\n",
      "28 Episode: finished after 54 steps\n",
      "29 Episode: finished after 19 steps\n",
      "30 Episode: finished after 39 steps\n",
      "31 Episode: finished after 47 steps\n",
      "32 Episode: finished after 53 steps\n",
      "33 Episode: finished after 31 steps\n",
      "34 Episode: finished after 21 steps\n",
      "35 Episode: finished after 35 steps\n",
      "36 Episode: finished after 66 steps\n",
      "37 Episode: finished after 82 steps\n",
      "38 Episode: finished after 44 steps\n",
      "39 Episode: finished after 76 steps\n",
      "40 Episode: finished after 62 steps\n",
      "41 Episode: finished after 105 steps\n",
      "42 Episode: finished after 131 steps\n",
      "43 Episode: finished after 180 steps\n",
      "44 Episode: finished after 142 steps\n",
      "45 Episode: finished after 36 steps\n",
      "46 Episode: finished after 28 steps\n",
      "47 Episode: finished after 169 steps\n",
      "48 Episode: finished after 22 steps\n",
      "49 Episode: finished after 95 steps\n",
      "50 Episode: finished after 78 steps\n",
      "51 Episode: finished after 200 steps\n",
      "52 Episode: finished after 45 steps\n",
      "53 Episode: finished after 85 steps\n",
      "54 Episode: finished after 118 steps\n",
      "55 Episode: finished after 59 steps\n",
      "56 Episode: finished after 49 steps\n",
      "57 Episode: finished after 22 steps\n",
      "58 Episode: finished after 89 steps\n",
      "59 Episode: finished after 55 steps\n",
      "60 Episode: finished after 48 steps\n",
      "61 Episode: finished after 13 steps\n",
      "62 Episode: finished after 101 steps\n",
      "63 Episode: finished after 15 steps\n",
      "64 Episode: finished after 82 steps\n",
      "65 Episode: finished after 10 steps\n",
      "66 Episode: finished after 22 steps\n",
      "67 Episode: finished after 33 steps\n",
      "68 Episode: finished after 147 steps\n",
      "69 Episode: finished after 33 steps\n",
      "70 Episode: finished after 134 steps\n",
      "71 Episode: finished after 170 steps\n",
      "72 Episode: finished after 158 steps\n",
      "73 Episode: finished after 37 steps\n",
      "74 Episode: finished after 32 steps\n",
      "75 Episode: finished after 41 steps\n",
      "76 Episode: finished after 200 steps\n",
      "77 Episode: finished after 131 steps\n",
      "78 Episode: finished after 56 steps\n",
      "79 Episode: finished after 108 steps\n",
      "80 Episode: finished after 20 steps\n",
      "81 Episode: finished after 104 steps\n",
      "82 Episode: finished after 146 steps\n",
      "83 Episode: finished after 50 steps\n",
      "84 Episode: finished after 99 steps\n",
      "85 Episode: finished after 38 steps\n",
      "86 Episode: finished after 111 steps\n",
      "87 Episode: finished after 200 steps\n",
      "88 Episode: finished after 51 steps\n",
      "89 Episode: finished after 102 steps\n",
      "90 Episode: finished after 125 steps\n",
      "91 Episode: finished after 133 steps\n",
      "92 Episode: finished after 176 steps\n",
      "93 Episode: finished after 109 steps\n",
      "94 Episode: finished after 200 steps\n",
      "95 Episode: finished after 200 steps\n",
      "96 Episode: finished after 200 steps\n",
      "97 Episode: finished after 200 steps\n",
      "98 Episode: finished after 200 steps\n",
      "99 Episode: finished after 200 steps\n",
      "100 Episode: finished after 200 steps\n",
      "101 Episode: finished after 200 steps\n",
      "102 Episode: finished after 109 steps\n",
      "103 Episode: finished after 30 steps\n",
      "104 Episode: finished after 200 steps\n",
      "105 Episode: finished after 200 steps\n",
      "106 Episode: finished after 200 steps\n",
      "107 Episode: finished after 200 steps\n",
      "108 Episode: finished after 200 steps\n",
      "109 Episode: finished after 200 steps\n",
      "110 Episode: finished after 200 steps\n",
      "111 Episode: finished after 175 steps\n",
      "112 Episode: finished after 186 steps\n",
      "113 Episode: finished after 200 steps\n",
      "114 Episode: finished after 200 steps\n",
      "115 Episode: finished after 200 steps\n",
      "116 Episode: finished after 200 steps\n",
      "117 Episode: finished after 200 steps\n",
      "118 Episode: finished after 200 steps\n",
      "119 Episode: finished after 200 steps\n",
      "120 Episode: finished after 200 steps\n",
      "121 Episode: finished after 200 steps\n",
      "122 Episode: finished after 89 steps\n",
      "123 Episode: finished after 200 steps\n",
      "124 Episode: finished after 200 steps\n",
      "125 Episode: finished after 43 steps\n",
      "126 Episode: finished after 200 steps\n",
      "127 Episode: finished after 153 steps\n",
      "128 Episode: finished after 139 steps\n",
      "129 Episode: finished after 158 steps\n",
      "130 Episode: finished after 184 steps\n",
      "131 Episode: finished after 200 steps\n",
      "132 Episode: finished after 200 steps\n",
      "133 Episode: finished after 200 steps\n",
      "134 Episode: finished after 200 steps\n",
      "135 Episode: finished after 200 steps\n",
      "136 Episode: finished after 200 steps\n",
      "137 Episode: finished after 200 steps\n",
      "138 Episode: finished after 200 steps\n",
      "139 Episode: finished after 200 steps\n",
      "140 Episode: finished after 200 steps\n",
      "10 Sequential Episodes Success\n",
      "141 Episode: finished after 200 steps\n"
     ]
    },
    {
     "data": {
      "image/png": "[encoded data removed]",
      "text/plain": [
       "<Figure size 600x400 with 1 Axes>"
      ]
     },
     "metadata": {
      "image/png": {
       "height": 316,
       "width": 467
      },
      "needs_background": "light"
     },
     "output_type": "display_data"
    }
   ],
   "source": [
    "cartpole_env = Environment()\n",
    "cartpole_env.run()"
   ]
  },
  {
   "cell_type": "code",
   "execution_count": 5,
   "metadata": {},
   "outputs": [
    {
     "data": {
      "text/plain": [
       "(None, None)"
      ]
     },
     "execution_count": 5,
     "metadata": {},
     "output_type": "execute_result"
    }
   ],
   "source": [
    "import ffmpy\n",
    "ff = ffmpy.FFmpeg(\n",
    "    inputs = {\"movie_cartpole.mp4\" : None},\n",
    "    outputs = {\"movie_cartpole.gif\" : None})\n",
    " \n",
    "ff.run()"
   ]
  }
 ],
 "metadata": {
  "kernelspec": {
   "display_name": "Python 3",
   "language": "python",
   "name": "python3"
  },
  "language_info": {
   "codemirror_mode": {
    "name": "ipython",
    "version": 3
   },
   "file_extension": ".py",
   "mimetype": "text/x-python",
   "name": "python",
   "nbconvert_exporter": "python",
   "pygments_lexer": "ipython3",
   "version": "3.7.0"
  }
 },
 "nbformat": 4,
 "nbformat_minor": 2
}
